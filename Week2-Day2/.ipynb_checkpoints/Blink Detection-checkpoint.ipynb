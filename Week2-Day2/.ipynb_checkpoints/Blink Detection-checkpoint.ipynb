{
 "cells": [
  {
   "cell_type": "code",
   "execution_count": 2,
   "metadata": {},
   "outputs": [],
   "source": [
    "import numpy\n",
    "from pygame import mixer\n",
    "import time\n",
    "import cv2\n",
    "\n",
    "\n",
    "def alert():\n",
    "   mixer.init()\n",
    "   alert=mixer.Sound('./assets/beep-07.wav')\n",
    "   alert.play()\n",
    "   time.sleep(0.1)\n",
    "   alert.play()   \n",
    "   \n",
    "capture =cv2.VideoCapture(0)\n",
    "face_cascade = cv2.CascadeClassifier('./assets/haarcascade_frontalface_default.xml')\n",
    "eye_cascade = cv2.CascadeClassifier('./assets/haarcascade_eye_tree_eyeglasses.xml')\n",
    "blink_cascade = cv2.CascadeClassifier('./assets/CustomBlinkCascade.xml')\n",
    "\n",
    "while True:\n",
    "      ret, frame = capture.read()\n",
    "      gray = cv2.cvtColor(frame,cv2.COLOR_BGR2GRAY)\n",
    "      faces = face_cascade.detectMultiScale(gray)\n",
    "\n",
    "      for (x,y,w,h) in faces:\n",
    "         font = cv2.FONT_HERSHEY_COMPLEX\n",
    "         cv2.putText(frame,'Face',(x+w,y+h),font,1,(250,250,250),2,cv2.LINE_AA)\n",
    "         cv2.rectangle(frame,(x,y),(x+w,y+h),(255,0,0),2)\n",
    "         roi_gray = gray[y:y+h, x:x+w]\n",
    "         roi_color = frame[y:y+h, x:x+w]\n",
    "\n",
    "         eyes = eye_cascade.detectMultiScale(roi_gray)\n",
    "         for(ex,ey,ew,eh) in eyes:\n",
    "            cv2.rectangle(roi_color,(ex,ey),(ex+ew,ey+eh),(0,255,0),2)\n",
    "\n",
    "         blink = blink_cascade.detectMultiScale(roi_gray)\n",
    "         for(eyx,eyy,eyw,eyh) in blink:\n",
    "            cv2.rectangle(roi_color,(eyx,eyy),(eyx+eyw,eyy+eyh),(255,255,0),2)\n",
    "            alert()\n",
    "      cv2.imshow('frame',frame)\n",
    "      if cv2.waitKey(1) & 0xFF ==ord('q'):\n",
    "          break\n",
    "        \n",
    "  \n",
    "capture.release()\n",
    "cv2.destroyAllWindows()"
   ]
  },
  {
   "cell_type": "code",
   "execution_count": null,
   "metadata": {},
   "outputs": [],
   "source": []
  },
  {
   "cell_type": "code",
   "execution_count": null,
   "metadata": {},
   "outputs": [],
   "source": []
  }
 ],
 "metadata": {
  "kernelspec": {
   "display_name": "Python 3",
   "language": "python",
   "name": "python3"
  },
  "language_info": {
   "codemirror_mode": {
    "name": "ipython",
    "version": 3
   },
   "file_extension": ".py",
   "mimetype": "text/x-python",
   "name": "python",
   "nbconvert_exporter": "python",
   "pygments_lexer": "ipython3",
   "version": "3.8.5"
  }
 },
 "nbformat": 4,
 "nbformat_minor": 5
}
